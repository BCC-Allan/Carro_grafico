{
 "cells": [
  {
   "cell_type": "code",
   "execution_count": 6,
   "metadata": {},
   "outputs": [],
   "source": [
    "from matplotlib import pyplot as plt\n",
    "import matplotlib.image as mpimg\n",
    "import numpy as np"
   ]
  },
  {
   "cell_type": "code",
   "execution_count": null,
   "metadata": {},
   "outputs": [],
   "source": [
    "# x = (1−t)2 * 0 + 2(1−t)t * 0.5 + t2 * 1 = (1-t)t + t2 = t\n",
    "# y = (1−t)2 * 0 + 2(1−t)t * 1 + t2 * 0 = 2(1-t)t = –t2 + 2t\n",
    "# x = (1−t)2x1 + 2(1−t)tx2 + t2x3\n",
    "# y = (1−t)2y1 + 2(1−t)ty2 + t2y3"
   ]
  },
  {
   "cell_type": "code",
   "execution_count": 2,
   "metadata": {},
   "outputs": [],
   "source": [
    "def bezier(p1: tuple, p2: tuple, p3: tuple, t: float): \n",
    "    x1 = p1[0]\n",
    "    x2 = p2[0]\n",
    "    x3 = p3[0]\n",
    "    y1 = p1[1]\n",
    "    y2 = p2[1]\n",
    "    y3 = p3[1]\n",
    "    x = (1-t)**2 * x1 + 2 * (1-t)*t * x2 + t**2 * x3\n",
    "    y = (1-t)**2 * y1 + 2 * (1-t)*t * y2 + t**2 * y3\n",
    "    return (x, y)"
   ]
  },
  {
   "cell_type": "code",
   "execution_count": 20,
   "metadata": {},
   "outputs": [
    {
     "data": {
      "image/png": "[encoded data removed]",
      "text/plain": [
       "<Figure size 432x288 with 1 Axes>"
      ]
     },
     "metadata": {
      "needs_background": "light"
     },
     "output_type": "display_data"
    }
   ],
   "source": [
    "T = np.linspace(0, 1, 100) # valores de 0 a 100\n",
    "p1 = (50, 50)\n",
    "p2 = (0, 125)  # curva\n",
    "p3 = (50, 200)\n",
    "matrix = [bezier(p1, p2, p3, t) for t in T]  # Monta uma matriz com todos pontos da curva\n",
    "\n",
    "# Pontos de referencia\n",
    "plt.scatter(p1[0], p1[1], s=200, c=\"green\") \n",
    "plt.scatter(p2[0], p2[1], s=200, c=\"blue\")\n",
    "plt.scatter(p3[0], p3[1], s=200, c=\"green\")\n",
    "\n",
    "X = [matrix[i][0] for i in range(len(matrix))]   # Pega todos os valores do eixo x\n",
    "Y = [matrix[i][1] for i in range(len(matrix))]   # Pega todos os valores do eixo y\n",
    "\n",
    "plt.xlabel('x')\n",
    "plt.ylabel('y')\n",
    "plt.grid(True, linestyle='-.')\n",
    "\n",
    "plt.plot(X, Y, color='orange', linewidth=4.0, linestyle='-')\n",
    "\n",
    "plt.xlim(0, 1200)\n",
    "plt.ylim(0, 500)\n",
    "\n",
    "    \n",
    "plt.show()"
   ]
  },
  {
   "cell_type": "code",
   "execution_count": null,
   "metadata": {},
   "outputs": [],
   "source": []
  }
 ],
 "metadata": {
  "kernelspec": {
   "display_name": "Python 3",
   "language": "python",
   "name": "python3"
  },
  "language_info": {
   "codemirror_mode": {
    "name": "ipython",
    "version": 3
   },
   "file_extension": ".py",
   "mimetype": "text/x-python",
   "name": "python",
   "nbconvert_exporter": "python",
   "pygments_lexer": "ipython3",
   "version": "3.7.3"
  }
 },
 "nbformat": 4,
 "nbformat_minor": 4
}
